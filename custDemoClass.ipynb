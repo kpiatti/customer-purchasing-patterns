{
 "cells": [
  {
   "cell_type": "markdown",
   "metadata": {},
   "source": [
    "# Blackwell Project: Understanding Customers: Task 2\n",
    "\n",
    "Background\n",
    "* VP of sales (Goodrich) believes:\n",
    "    * Customers who shop in-store are older\n",
    "    * Older customers spend more\n",
    "* Considering marketing activities and changes to website to attract older customers.\n",
    "* Wants to better understand age of customers, and if age correlates with how much they spend. \n",
    "\n",
    "Danielle's Questions:\n",
    "1. Are their differences in customer age between regions?\n",
    "2. Can we predict the age of a customer in a region based on demographic data?\n",
    "3. Is there any correlation between the customer's age and whether their transaction was online or in-store?\n",
    "4. Do any other factors predict whether customers will buy online or in-store?"
   ]
  },
  {
   "cell_type": "code",
   "execution_count": 1,
   "metadata": {},
   "outputs": [],
   "source": [
    "#DS Basics\n",
    "import numpy as np\n",
    "import pandas as pd\n",
    "import matplotlib.pyplot as plt\n",
    "\n",
    "#SKLearn Stuff\n",
    "from sklearn.model_selection import train_test_split\n",
    "from sklearn.metrics import accuracy_score, classification_report\n",
    "from sklearn.ensemble import RandomForestClassifier, GradientBoostingClassifier\n",
    "from sklearn.tree import DecisionTreeClassifier\n",
    "from sklearn.model_selection import cross_val_score\n",
    "from sklearn import metrics\n",
    "\n",
    "#helpers\n",
    "%matplotlib inline"
   ]
  },
  {
   "cell_type": "code",
   "execution_count": 2,
   "metadata": {},
   "outputs": [
    {
     "data": {
      "text/html": [
       "<div>\n",
       "<style scoped>\n",
       "    .dataframe tbody tr th:only-of-type {\n",
       "        vertical-align: middle;\n",
       "    }\n",
       "\n",
       "    .dataframe tbody tr th {\n",
       "        vertical-align: top;\n",
       "    }\n",
       "\n",
       "    .dataframe thead th {\n",
       "        text-align: right;\n",
       "    }\n",
       "</style>\n",
       "<table border=\"1\" class=\"dataframe\">\n",
       "  <thead>\n",
       "    <tr style=\"text-align: right;\">\n",
       "      <th></th>\n",
       "      <th>in-store</th>\n",
       "      <th>age</th>\n",
       "      <th>items</th>\n",
       "      <th>amount</th>\n",
       "      <th>region</th>\n",
       "    </tr>\n",
       "  </thead>\n",
       "  <tbody>\n",
       "    <tr>\n",
       "      <th>0</th>\n",
       "      <td>0</td>\n",
       "      <td>37</td>\n",
       "      <td>4</td>\n",
       "      <td>281.03</td>\n",
       "      <td>2</td>\n",
       "    </tr>\n",
       "    <tr>\n",
       "      <th>1</th>\n",
       "      <td>0</td>\n",
       "      <td>35</td>\n",
       "      <td>2</td>\n",
       "      <td>219.51</td>\n",
       "      <td>2</td>\n",
       "    </tr>\n",
       "    <tr>\n",
       "      <th>2</th>\n",
       "      <td>1</td>\n",
       "      <td>45</td>\n",
       "      <td>3</td>\n",
       "      <td>1525.70</td>\n",
       "      <td>4</td>\n",
       "    </tr>\n",
       "    <tr>\n",
       "      <th>3</th>\n",
       "      <td>1</td>\n",
       "      <td>46</td>\n",
       "      <td>3</td>\n",
       "      <td>715.25</td>\n",
       "      <td>3</td>\n",
       "    </tr>\n",
       "    <tr>\n",
       "      <th>4</th>\n",
       "      <td>1</td>\n",
       "      <td>33</td>\n",
       "      <td>4</td>\n",
       "      <td>1937.50</td>\n",
       "      <td>1</td>\n",
       "    </tr>\n",
       "  </tbody>\n",
       "</table>\n",
       "</div>"
      ],
      "text/plain": [
       "   in-store  age  items   amount  region\n",
       "0         0   37      4   281.03       2\n",
       "1         0   35      2   219.51       2\n",
       "2         1   45      3  1525.70       4\n",
       "3         1   46      3   715.25       3\n",
       "4         1   33      4  1937.50       1"
      ]
     },
     "execution_count": 2,
     "metadata": {},
     "output_type": "execute_result"
    }
   ],
   "source": [
    "#import data\n",
    "data = pd.read_csv('Demographic_Data.csv')\n",
    "data.head()"
   ]
  },
  {
   "cell_type": "markdown",
   "metadata": {},
   "source": [
    "## Pre-processing the data (again)"
   ]
  },
  {
   "cell_type": "code",
   "execution_count": 3,
   "metadata": {},
   "outputs": [
    {
     "data": {
      "text/plain": [
       "0        False\n",
       "1        False\n",
       "2        False\n",
       "3        False\n",
       "4        False\n",
       "         ...  \n",
       "79995    False\n",
       "79996    False\n",
       "79997    False\n",
       "79998    False\n",
       "79999    False\n",
       "Length: 80000, dtype: bool"
      ]
     },
     "execution_count": 3,
     "metadata": {},
     "output_type": "execute_result"
    }
   ],
   "source": [
    "#look for duplicate observations/cases\n",
    "data.duplicated()"
   ]
  },
  {
   "cell_type": "code",
   "execution_count": 4,
   "metadata": {},
   "outputs": [],
   "source": [
    "#drop duplicate observations from the dataset\n",
    "data = data.drop_duplicates()"
   ]
  },
  {
   "cell_type": "code",
   "execution_count": 5,
   "metadata": {},
   "outputs": [
    {
     "name": "stdout",
     "output_type": "stream",
     "text": [
      "<class 'pandas.core.frame.DataFrame'>\n",
      "Int64Index: 79979 entries, 0 to 79999\n",
      "Data columns (total 5 columns):\n",
      " #   Column    Non-Null Count  Dtype  \n",
      "---  ------    --------------  -----  \n",
      " 0   in-store  79979 non-null  int64  \n",
      " 1   age       79979 non-null  int64  \n",
      " 2   items     79979 non-null  int64  \n",
      " 3   amount    79979 non-null  float64\n",
      " 4   region    79979 non-null  int64  \n",
      "dtypes: float64(1), int64(4)\n",
      "memory usage: 3.7 MB\n"
     ]
    }
   ],
   "source": [
    "#look at number of entries to see how many duplicates we dropped\n",
    "data.info()"
   ]
  },
  {
   "cell_type": "markdown",
   "metadata": {},
   "source": [
    "*Notes*\n",
    "\n",
    "* i was hoping to get information on any duplicate entries in the data frame before i drop duplicates in the next step. need to find another command.\n",
    "* figure out how to output and save a processed version of the data file"
   ]
  },
  {
   "cell_type": "markdown",
   "metadata": {},
   "source": [
    "##### Data Normalization\n",
    "* experiments have shown that ML and deep learning models perform \"way better\" on data that is normally distributed\n",
    "* the goal of normalization is to transform the values in the dataset so they ***all have a common scale*** without distorting differences between the range of values\n",
    "* there are several ways to normalize data. in this example, i'll use the standard scaler model. \n",
    "* see [easy guide to data preprocessing in python](https://www.kdnuggets.com/2020/07/easy-guide-data-preprocessing-python.html)\n",
    "\n",
    "---"
   ]
  },
  {
   "cell_type": "markdown",
   "metadata": {},
   "source": [
    "## Decision Tree classification model"
   ]
  },
  {
   "cell_type": "code",
   "execution_count": 6,
   "metadata": {},
   "outputs": [
    {
     "name": "stdout",
     "output_type": "stream",
     "text": [
      "Summary of feature sample\n"
     ]
    },
    {
     "data": {
      "text/html": [
       "<div>\n",
       "<style scoped>\n",
       "    .dataframe tbody tr th:only-of-type {\n",
       "        vertical-align: middle;\n",
       "    }\n",
       "\n",
       "    .dataframe tbody tr th {\n",
       "        vertical-align: top;\n",
       "    }\n",
       "\n",
       "    .dataframe thead th {\n",
       "        text-align: right;\n",
       "    }\n",
       "</style>\n",
       "<table border=\"1\" class=\"dataframe\">\n",
       "  <thead>\n",
       "    <tr style=\"text-align: right;\">\n",
       "      <th></th>\n",
       "      <th>in-store</th>\n",
       "      <th>age</th>\n",
       "      <th>items</th>\n",
       "      <th>amount</th>\n",
       "    </tr>\n",
       "  </thead>\n",
       "  <tbody>\n",
       "    <tr>\n",
       "      <th>0</th>\n",
       "      <td>0</td>\n",
       "      <td>37</td>\n",
       "      <td>4</td>\n",
       "      <td>281.03</td>\n",
       "    </tr>\n",
       "    <tr>\n",
       "      <th>1</th>\n",
       "      <td>0</td>\n",
       "      <td>35</td>\n",
       "      <td>2</td>\n",
       "      <td>219.51</td>\n",
       "    </tr>\n",
       "    <tr>\n",
       "      <th>2</th>\n",
       "      <td>1</td>\n",
       "      <td>45</td>\n",
       "      <td>3</td>\n",
       "      <td>1525.70</td>\n",
       "    </tr>\n",
       "    <tr>\n",
       "      <th>3</th>\n",
       "      <td>1</td>\n",
       "      <td>46</td>\n",
       "      <td>3</td>\n",
       "      <td>715.25</td>\n",
       "    </tr>\n",
       "    <tr>\n",
       "      <th>4</th>\n",
       "      <td>1</td>\n",
       "      <td>33</td>\n",
       "      <td>4</td>\n",
       "      <td>1937.50</td>\n",
       "    </tr>\n",
       "  </tbody>\n",
       "</table>\n",
       "</div>"
      ],
      "text/plain": [
       "   in-store  age  items   amount\n",
       "0         0   37      4   281.03\n",
       "1         0   35      2   219.51\n",
       "2         1   45      3  1525.70\n",
       "3         1   46      3   715.25\n",
       "4         1   33      4  1937.50"
      ]
     },
     "execution_count": 6,
     "metadata": {},
     "output_type": "execute_result"
    }
   ],
   "source": [
    "#specify the independent variables (features/attributes) for the model \n",
    "X = data.iloc[:, 0:4]\n",
    "print('Summary of feature sample')\n",
    "X.head()"
   ]
  },
  {
   "cell_type": "code",
   "execution_count": 7,
   "metadata": {},
   "outputs": [],
   "source": [
    "#specify the dependent variable (target) for the model\n",
    "y = data['region']"
   ]
  },
  {
   "cell_type": "code",
   "execution_count": 8,
   "metadata": {},
   "outputs": [],
   "source": [
    "#split datasets into a training set and testing set\n",
    "X_train, X_test, y_train, y_test = train_test_split(X, y, test_size = .30,\n",
    "                                                   random_state = 123)"
   ]
  },
  {
   "cell_type": "markdown",
   "metadata": {},
   "source": [
    "*Notes*  \n",
    "* ```test_size = .30``` parameter is specifying that 70% of the dataset should be for training the model, and 30% should be for testing the model\n",
    "* ```random_state = 123``` ensures that the same observations will be selected for the training and test sets each time the cell is run/re-run. the number 123 does not mean anything, you could use any other number in its place"
   ]
  },
  {
   "cell_type": "code",
   "execution_count": 9,
   "metadata": {},
   "outputs": [],
   "source": [
    "#instatiate the decision tree algorithm \n",
    "algo = DecisionTreeClassifier(max_depth=3)\n",
    "\n",
    "#train the model on the training data set\n",
    "model = algo.fit(X_train, y_train)"
   ]
  },
  {
   "cell_type": "code",
   "execution_count": 10,
   "metadata": {},
   "outputs": [],
   "source": [
    "#test the model on testing data to see how good the predictions are\n",
    "preds = model.predict(X_test)"
   ]
  },
  {
   "cell_type": "code",
   "execution_count": 11,
   "metadata": {
    "scrolled": true
   },
   "outputs": [
    {
     "name": "stdout",
     "output_type": "stream",
     "text": [
      "              precision    recall  f1-score   support\n",
      "\n",
      "           1       0.41      0.68      0.51      4838\n",
      "           2       0.90      1.00      0.95      5979\n",
      "           3       0.54      0.11      0.18      5391\n",
      "           4       0.65      0.70      0.67      7786\n",
      "\n",
      "    accuracy                           0.64     23994\n",
      "   macro avg       0.63      0.62      0.58     23994\n",
      "weighted avg       0.64      0.64      0.60     23994\n",
      "\n"
     ]
    }
   ],
   "source": [
    "#create classification report on how well model did on the testing data\n",
    "print(classification_report(y_test, preds))"
   ]
  },
  {
   "cell_type": "code",
   "execution_count": 12,
   "metadata": {},
   "outputs": [
    {
     "name": "stdout",
     "output_type": "stream",
     "text": [
      "[[3266    0  494 1078]\n",
      " [   0 5979    0    0]\n",
      " [2753  226  579 1833]\n",
      " [1960  411    0 5415]]\n"
     ]
    }
   ],
   "source": [
    "#create confusion matrix showing model predictions for each class\n",
    "print(metrics.confusion_matrix(y_test, preds))"
   ]
  },
  {
   "cell_type": "markdown",
   "metadata": {},
   "source": [
    "*Notes*\n",
    "* in this example our goal is to use ML to train the decision tree classifier model to predict the region of each purchase based on the other four features in the dataset.\n",
    "* ```X_train, x_test, y_train, y_test = train_test_split...``` split the data into a training set (```X_train, y_train```)—which the model trains on—and a testing set—which we will test the model on to see how well it does in predicting which 'region' each transaction is from.\n",
    "* ```preds = model.predict(X_test)```is where we are giving our trained model some new sets of X values (```X_test```) and asking it predict what region each is from.\n",
    "* in ```print(classification_report(y_test, preds))``` we are comparing the prediction the model made for each observation in X_test, comparing the predicted region to the actual region for each observation (i.e. the values in ```y_test```), and generating a classification report\n",
    "* understanding the classification report: precison = the true positives/true positives + false positives; recall = true positives/true positives + false negatives' f1-score = a balance between precision and recall; support = the number of observations in X_test that were in each region. \n",
    "* accuracy = number of correct predictions/ total number of predictions\n",
    "    * accuracy is only meaningful if x_test is roughly balanced between the classes. just suppose 98% of the observations were in region 1, then the model could get 98% accuracy just by predicting that all observations are from region 1.\n",
    "* the confusion matrix is telling us for the observations actually from each region (rows), how many the model predicted in each region (e.g. for the cases actually in region 1, the model predicted 3,266 were in 1, 0 were in 2, 494 were in 3, and 1078 were in 4)\n",
    "\n",
    "---"
   ]
  },
  {
   "cell_type": "markdown",
   "metadata": {},
   "source": [
    "##### visually plot the decision tree model"
   ]
  },
  {
   "cell_type": "code",
   "execution_count": 13,
   "metadata": {},
   "outputs": [],
   "source": [
    "from sklearn.tree import plot_tree #this should be at top with other imports"
   ]
  },
  {
   "cell_type": "code",
   "execution_count": 14,
   "metadata": {},
   "outputs": [
    {
     "data": {
      "image/png": "[encoded data removed]",
      "text/plain": [
       "<Figure size 2160x1080 with 1 Axes>"
      ]
     },
     "metadata": {
      "needs_background": "light"
     },
     "output_type": "display_data"
    }
   ],
   "source": [
    "#plot the decision tree \n",
    "fig = plt.figure(figsize=(30,15))\n",
    "tree = plot_tree(model, max_depth=3, feature_names=X.columns, \n",
    "                 class_names =['0','1', '2','3'],\n",
    "                 filled = True, fontsize=14)"
   ]
  },
  {
   "cell_type": "markdown",
   "metadata": {},
   "source": [
    "---"
   ]
  },
  {
   "cell_type": "code",
   "execution_count": 15,
   "metadata": {},
   "outputs": [],
   "source": [
    "#graphviz creates better visualizations of decision trees\n",
    "import graphviz"
   ]
  },
  {
   "cell_type": "code",
   "execution_count": 16,
   "metadata": {},
   "outputs": [],
   "source": [
    "#sklearn pkg also needed to plot tree using graphviz\n",
    "from sklearn import tree"
   ]
  },
  {
   "cell_type": "code",
   "execution_count": 17,
   "metadata": {},
   "outputs": [
    {
     "name": "stdout",
     "output_type": "stream",
     "text": [
      "|--- feature_3 <= 499.94\n",
      "|   |--- feature_0 <= 0.50\n",
      "|   |   |--- feature_1 <= 27.50\n",
      "|   |   |   |--- class: 4\n",
      "|   |   |--- feature_1 >  27.50\n",
      "|   |   |   |--- class: 2\n",
      "|   |--- feature_0 >  0.50\n",
      "|   |   |--- feature_1 <= 55.50\n",
      "|   |   |   |--- class: 1\n",
      "|   |   |--- feature_1 >  55.50\n",
      "|   |   |   |--- class: 3\n",
      "|--- feature_3 >  499.94\n",
      "|   |--- feature_0 <= 0.50\n",
      "|   |   |--- feature_3 <= 2970.30\n",
      "|   |   |   |--- class: 4\n",
      "|   |   |--- feature_3 >  2970.30\n",
      "|   |   |   |--- class: 4\n",
      "|   |--- feature_0 >  0.50\n",
      "|   |   |--- feature_3 <= 999.74\n",
      "|   |   |   |--- class: 1\n",
      "|   |   |--- feature_3 >  999.74\n",
      "|   |   |   |--- class: 4\n",
      "\n"
     ]
    }
   ],
   "source": [
    "#print a text-only representation of the decison tree model\n",
    "text_representation = tree.export_text(model)\n",
    "print(text_representation)"
   ]
  },
  {
   "cell_type": "code",
   "execution_count": 18,
   "metadata": {},
   "outputs": [],
   "source": [
    "import pydotplus"
   ]
  },
  {
   "cell_type": "code",
   "execution_count": 19,
   "metadata": {},
   "outputs": [],
   "source": [
    "#change y values into strings because graphviz requires dv to be strings\n",
    "y_str=y.astype(str)"
   ]
  },
  {
   "cell_type": "code",
   "execution_count": 20,
   "metadata": {
    "scrolled": true
   },
   "outputs": [
    {
     "data": {
      "image/svg+xml": [
       "<?xml version=\"1.0\" encoding=\"UTF-8\" standalone=\"no\"?>\r\n",
       "<!DOCTYPE svg PUBLIC \"-//W3C//DTD SVG 1.1//EN\"\r\n",
       " \"http://www.w3.org/Graphics/SVG/1.1/DTD/svg11.dtd\">\r\n",
       "<!-- Generated by graphviz version 2.38.0 (20140413.2041)\r\n",
       " -->\r\n",
       "<!-- Title: Tree Pages: 1 -->\r\n",
       "<svg width=\"1434pt\" height=\"433pt\"\r\n",
       " viewBox=\"0.00 0.00 1434.00 433.00\" xmlns=\"http://www.w3.org/2000/svg\" xmlns:xlink=\"http://www.w3.org/1999/xlink\">\r\n",
       "<g id=\"graph0\" class=\"graph\" transform=\"scale(1 1) rotate(0) translate(4 429)\">\r\n",
       "<title>Tree</title>\r\n",
       "<polygon fill=\"white\" stroke=\"none\" points=\"-4,4 -4,-429 1430,-429 1430,4 -4,4\"/>\r\n",
       "<!-- 0 -->\r\n",
       "<g id=\"node1\" class=\"node\"><title>0</title>\r\n",
       "<polygon fill=\"#fbebfc\" stroke=\"black\" points=\"823.5,-425 596.5,-425 596.5,-342 823.5,-342 823.5,-425\"/>\r\n",
       "<text text-anchor=\"middle\" x=\"710\" y=\"-409.8\" font-family=\"Times New Roman,serif\" font-size=\"14.00\">amount &lt;= 499.94</text>\r\n",
       "<text text-anchor=\"middle\" x=\"710\" y=\"-394.8\" font-family=\"Times New Roman,serif\" font-size=\"14.00\">gini = 0.741</text>\r\n",
       "<text text-anchor=\"middle\" x=\"710\" y=\"-379.8\" font-family=\"Times New Roman,serif\" font-size=\"14.00\">samples = 55985</text>\r\n",
       "<text text-anchor=\"middle\" x=\"710\" y=\"-364.8\" font-family=\"Times New Roman,serif\" font-size=\"14.00\">value = [11159, 14015, 12609, 18202]</text>\r\n",
       "<text text-anchor=\"middle\" x=\"710\" y=\"-349.8\" font-family=\"Times New Roman,serif\" font-size=\"14.00\">class = 3</text>\r\n",
       "</g>\r\n",
       "<!-- 1 -->\r\n",
       "<g id=\"node2\" class=\"node\"><title>1</title>\r\n",
       "<polygon fill=\"#acf3a6\" stroke=\"black\" points=\"630.5,-306 423.5,-306 423.5,-223 630.5,-223 630.5,-306\"/>\r\n",
       "<text text-anchor=\"middle\" x=\"527\" y=\"-290.8\" font-family=\"Times New Roman,serif\" font-size=\"14.00\">in&#45;store &lt;= 0.5</text>\r\n",
       "<text text-anchor=\"middle\" x=\"527\" y=\"-275.8\" font-family=\"Times New Roman,serif\" font-size=\"14.00\">gini = 0.634</text>\r\n",
       "<text text-anchor=\"middle\" x=\"527\" y=\"-260.8\" font-family=\"Times New Roman,serif\" font-size=\"14.00\">samples = 25798</text>\r\n",
       "<text text-anchor=\"middle\" x=\"527\" y=\"-245.8\" font-family=\"Times New Roman,serif\" font-size=\"14.00\">value = [4091, 14015, 4378, 3314]</text>\r\n",
       "<text text-anchor=\"middle\" x=\"527\" y=\"-230.8\" font-family=\"Times New Roman,serif\" font-size=\"14.00\">class = 2</text>\r\n",
       "</g>\r\n",
       "<!-- 0&#45;&gt;1 -->\r\n",
       "<g id=\"edge1\" class=\"edge\"><title>0&#45;&gt;1</title>\r\n",
       "<path fill=\"none\" stroke=\"black\" d=\"M646.509,-341.907C631.179,-332.106 614.688,-321.563 599,-311.533\"/>\r\n",
       "<polygon fill=\"black\" stroke=\"black\" points=\"600.689,-308.459 590.379,-306.021 596.919,-314.356 600.689,-308.459\"/>\r\n",
       "<text text-anchor=\"middle\" x=\"595.75\" y=\"-326.737\" font-family=\"Times New Roman,serif\" font-size=\"14.00\">True</text>\r\n",
       "</g>\r\n",
       "<!-- 8 -->\r\n",
       "<g id=\"node9\" class=\"node\"><title>8</title>\r\n",
       "<polygon fill=\"#f3c3f7\" stroke=\"black\" points=\"987.5,-306 800.5,-306 800.5,-223 987.5,-223 987.5,-306\"/>\r\n",
       "<text text-anchor=\"middle\" x=\"894\" y=\"-290.8\" font-family=\"Times New Roman,serif\" font-size=\"14.00\">in&#45;store &lt;= 0.5</text>\r\n",
       "<text text-anchor=\"middle\" x=\"894\" y=\"-275.8\" font-family=\"Times New Roman,serif\" font-size=\"14.00\">gini = 0.628</text>\r\n",
       "<text text-anchor=\"middle\" x=\"894\" y=\"-260.8\" font-family=\"Times New Roman,serif\" font-size=\"14.00\">samples = 30187</text>\r\n",
       "<text text-anchor=\"middle\" x=\"894\" y=\"-245.8\" font-family=\"Times New Roman,serif\" font-size=\"14.00\">value = [7068, 0, 8231, 14888]</text>\r\n",
       "<text text-anchor=\"middle\" x=\"894\" y=\"-230.8\" font-family=\"Times New Roman,serif\" font-size=\"14.00\">class = 3</text>\r\n",
       "</g>\r\n",
       "<!-- 0&#45;&gt;8 -->\r\n",
       "<g id=\"edge8\" class=\"edge\"><title>0&#45;&gt;8</title>\r\n",
       "<path fill=\"none\" stroke=\"black\" d=\"M773.838,-341.907C789.252,-332.106 805.833,-321.563 821.607,-311.533\"/>\r\n",
       "<polygon fill=\"black\" stroke=\"black\" points=\"823.714,-314.34 830.275,-306.021 819.958,-308.433 823.714,-314.34\"/>\r\n",
       "<text text-anchor=\"middle\" x=\"824.843\" y=\"-326.724\" font-family=\"Times New Roman,serif\" font-size=\"14.00\">False</text>\r\n",
       "</g>\r\n",
       "<!-- 2 -->\r\n",
       "<g id=\"node3\" class=\"node\"><title>2</title>\r\n",
       "<polygon fill=\"#60e853\" stroke=\"black\" points=\"344,-187 164,-187 164,-104 344,-104 344,-187\"/>\r\n",
       "<text text-anchor=\"middle\" x=\"254\" y=\"-171.8\" font-family=\"Times New Roman,serif\" font-size=\"14.00\">age &lt;= 27.5</text>\r\n",
       "<text text-anchor=\"middle\" x=\"254\" y=\"-156.8\" font-family=\"Times New Roman,serif\" font-size=\"14.00\">gini = 0.223</text>\r\n",
       "<text text-anchor=\"middle\" x=\"254\" y=\"-141.8\" font-family=\"Times New Roman,serif\" font-size=\"14.00\">samples = 15984</text>\r\n",
       "<text text-anchor=\"middle\" x=\"254\" y=\"-126.8\" font-family=\"Times New Roman,serif\" font-size=\"14.00\">value = [0, 14015, 702, 1267]</text>\r\n",
       "<text text-anchor=\"middle\" x=\"254\" y=\"-111.8\" font-family=\"Times New Roman,serif\" font-size=\"14.00\">class = 2</text>\r\n",
       "</g>\r\n",
       "<!-- 1&#45;&gt;2 -->\r\n",
       "<g id=\"edge2\" class=\"edge\"><title>1&#45;&gt;2</title>\r\n",
       "<path fill=\"none\" stroke=\"black\" d=\"M432.284,-222.907C406.91,-212.033 379.404,-200.244 353.766,-189.257\"/>\r\n",
       "<polygon fill=\"black\" stroke=\"black\" points=\"354.982,-185.97 344.412,-185.248 352.225,-192.404 354.982,-185.97\"/>\r\n",
       "</g>\r\n",
       "<!-- 5 -->\r\n",
       "<g id=\"node6\" class=\"node\"><title>5</title>\r\n",
       "<polygon fill=\"#fdf6f2\" stroke=\"black\" points=\"617,-187 437,-187 437,-104 617,-104 617,-187\"/>\r\n",
       "<text text-anchor=\"middle\" x=\"527\" y=\"-171.8\" font-family=\"Times New Roman,serif\" font-size=\"14.00\">age &lt;= 55.5</text>\r\n",
       "<text text-anchor=\"middle\" x=\"527\" y=\"-156.8\" font-family=\"Times New Roman,serif\" font-size=\"14.00\">gini = 0.642</text>\r\n",
       "<text text-anchor=\"middle\" x=\"527\" y=\"-141.8\" font-family=\"Times New Roman,serif\" font-size=\"14.00\">samples = 9814</text>\r\n",
       "<text text-anchor=\"middle\" x=\"527\" y=\"-126.8\" font-family=\"Times New Roman,serif\" font-size=\"14.00\">value = [4091, 0, 3676, 2047]</text>\r\n",
       "<text text-anchor=\"middle\" x=\"527\" y=\"-111.8\" font-family=\"Times New Roman,serif\" font-size=\"14.00\">class = 2</text>\r\n",
       "</g>\r\n",
       "<!-- 1&#45;&gt;5 -->\r\n",
       "<g id=\"edge5\" class=\"edge\"><title>1&#45;&gt;5</title>\r\n",
       "<path fill=\"none\" stroke=\"black\" d=\"M527,-222.907C527,-214.649 527,-205.864 527,-197.302\"/>\r\n",
       "<polygon fill=\"black\" stroke=\"black\" points=\"530.5,-197.021 527,-187.021 523.5,-197.021 530.5,-197.021\"/>\r\n",
       "</g>\r\n",
       "<!-- 3 -->\r\n",
       "<g id=\"node4\" class=\"node\"><title>3</title>\r\n",
       "<polygon fill=\"#eeacf4\" stroke=\"black\" points=\"146,-68 0,-68 0,-0 146,-0 146,-68\"/>\r\n",
       "<text text-anchor=\"middle\" x=\"73\" y=\"-52.8\" font-family=\"Times New Roman,serif\" font-size=\"14.00\">gini = 0.465</text>\r\n",
       "<text text-anchor=\"middle\" x=\"73\" y=\"-37.8\" font-family=\"Times New Roman,serif\" font-size=\"14.00\">samples = 413</text>\r\n",
       "<text text-anchor=\"middle\" x=\"73\" y=\"-22.8\" font-family=\"Times New Roman,serif\" font-size=\"14.00\">value = [0, 0, 152, 261]</text>\r\n",
       "<text text-anchor=\"middle\" x=\"73\" y=\"-7.8\" font-family=\"Times New Roman,serif\" font-size=\"14.00\">class = 3</text>\r\n",
       "</g>\r\n",
       "<!-- 2&#45;&gt;3 -->\r\n",
       "<g id=\"edge3\" class=\"edge\"><title>2&#45;&gt;3</title>\r\n",
       "<path fill=\"none\" stroke=\"black\" d=\"M186.859,-103.882C170.391,-93.9191 152.816,-83.2862 136.523,-73.4299\"/>\r\n",
       "<polygon fill=\"black\" stroke=\"black\" points=\"137.987,-70.2249 127.62,-68.0433 134.364,-76.2142 137.987,-70.2249\"/>\r\n",
       "</g>\r\n",
       "<!-- 4 -->\r\n",
       "<g id=\"node5\" class=\"node\"><title>4</title>\r\n",
       "<polygon fill=\"#5be84e\" stroke=\"black\" points=\"344,-68 164,-68 164,-0 344,-0 344,-68\"/>\r\n",
       "<text text-anchor=\"middle\" x=\"254\" y=\"-52.8\" font-family=\"Times New Roman,serif\" font-size=\"14.00\">gini = 0.184</text>\r\n",
       "<text text-anchor=\"middle\" x=\"254\" y=\"-37.8\" font-family=\"Times New Roman,serif\" font-size=\"14.00\">samples = 15571</text>\r\n",
       "<text text-anchor=\"middle\" x=\"254\" y=\"-22.8\" font-family=\"Times New Roman,serif\" font-size=\"14.00\">value = [0, 14015, 550, 1006]</text>\r\n",
       "<text text-anchor=\"middle\" x=\"254\" y=\"-7.8\" font-family=\"Times New Roman,serif\" font-size=\"14.00\">class = 2</text>\r\n",
       "</g>\r\n",
       "<!-- 2&#45;&gt;4 -->\r\n",
       "<g id=\"edge4\" class=\"edge\"><title>2&#45;&gt;4</title>\r\n",
       "<path fill=\"none\" stroke=\"black\" d=\"M254,-103.726C254,-95.5175 254,-86.8595 254,-78.56\"/>\r\n",
       "<polygon fill=\"black\" stroke=\"black\" points=\"257.5,-78.2996 254,-68.2996 250.5,-78.2996 257.5,-78.2996\"/>\r\n",
       "</g>\r\n",
       "<!-- 6 -->\r\n",
       "<g id=\"node7\" class=\"node\"><title>6</title>\r\n",
       "<polygon fill=\"#fcefe5\" stroke=\"black\" points=\"542,-68 362,-68 362,-0 542,-0 542,-68\"/>\r\n",
       "<text text-anchor=\"middle\" x=\"452\" y=\"-52.8\" font-family=\"Times New Roman,serif\" font-size=\"14.00\">gini = 0.658</text>\r\n",
       "<text text-anchor=\"middle\" x=\"452\" y=\"-37.8\" font-family=\"Times New Roman,serif\" font-size=\"14.00\">samples = 7390</text>\r\n",
       "<text text-anchor=\"middle\" x=\"452\" y=\"-22.8\" font-family=\"Times New Roman,serif\" font-size=\"14.00\">value = [3002, 0, 2341, 2047]</text>\r\n",
       "<text text-anchor=\"middle\" x=\"452\" y=\"-7.8\" font-family=\"Times New Roman,serif\" font-size=\"14.00\">class = 2</text>\r\n",
       "</g>\r\n",
       "<!-- 5&#45;&gt;6 -->\r\n",
       "<g id=\"edge6\" class=\"edge\"><title>5&#45;&gt;6</title>\r\n",
       "<path fill=\"none\" stroke=\"black\" d=\"M499.073,-103.726C493.013,-94.879 486.596,-85.51 480.514,-76.6303\"/>\r\n",
       "<polygon fill=\"black\" stroke=\"black\" points=\"483.346,-74.5721 474.808,-68.2996 477.571,-78.5277 483.346,-74.5721\"/>\r\n",
       "</g>\r\n",
       "<!-- 7 -->\r\n",
       "<g id=\"node8\" class=\"node\"><title>7</title>\r\n",
       "<polygon fill=\"#dbedfa\" stroke=\"black\" points=\"720,-68 560,-68 560,-0 720,-0 720,-68\"/>\r\n",
       "<text text-anchor=\"middle\" x=\"640\" y=\"-52.8\" font-family=\"Times New Roman,serif\" font-size=\"14.00\">gini = 0.495</text>\r\n",
       "<text text-anchor=\"middle\" x=\"640\" y=\"-37.8\" font-family=\"Times New Roman,serif\" font-size=\"14.00\">samples = 2424</text>\r\n",
       "<text text-anchor=\"middle\" x=\"640\" y=\"-22.8\" font-family=\"Times New Roman,serif\" font-size=\"14.00\">value = [1089, 0, 1335, 0]</text>\r\n",
       "<text text-anchor=\"middle\" x=\"640\" y=\"-7.8\" font-family=\"Times New Roman,serif\" font-size=\"14.00\">class = 4</text>\r\n",
       "</g>\r\n",
       "<!-- 5&#45;&gt;7 -->\r\n",
       "<g id=\"edge7\" class=\"edge\"><title>5&#45;&gt;7</title>\r\n",
       "<path fill=\"none\" stroke=\"black\" d=\"M569.077,-103.726C578.678,-94.423 588.874,-84.5428 598.452,-75.2612\"/>\r\n",
       "<polygon fill=\"black\" stroke=\"black\" points=\"600.89,-77.7721 605.636,-68.2996 596.019,-72.7451 600.89,-77.7721\"/>\r\n",
       "</g>\r\n",
       "<!-- 9 -->\r\n",
       "<g id=\"node10\" class=\"node\"><title>9</title>\r\n",
       "<polygon fill=\"#eca3f3\" stroke=\"black\" points=\"974,-187 814,-187 814,-104 974,-104 974,-187\"/>\r\n",
       "<text text-anchor=\"middle\" x=\"894\" y=\"-171.8\" font-family=\"Times New Roman,serif\" font-size=\"14.00\">amount &lt;= 2970.3</text>\r\n",
       "<text text-anchor=\"middle\" x=\"894\" y=\"-156.8\" font-family=\"Times New Roman,serif\" font-size=\"14.00\">gini = 0.455</text>\r\n",
       "<text text-anchor=\"middle\" x=\"894\" y=\"-141.8\" font-family=\"Times New Roman,serif\" font-size=\"14.00\">samples = 12131</text>\r\n",
       "<text text-anchor=\"middle\" x=\"894\" y=\"-126.8\" font-family=\"Times New Roman,serif\" font-size=\"14.00\">value = [0, 0, 4240, 7891]</text>\r\n",
       "<text text-anchor=\"middle\" x=\"894\" y=\"-111.8\" font-family=\"Times New Roman,serif\" font-size=\"14.00\">class = 3</text>\r\n",
       "</g>\r\n",
       "<!-- 8&#45;&gt;9 -->\r\n",
       "<g id=\"edge9\" class=\"edge\"><title>8&#45;&gt;9</title>\r\n",
       "<path fill=\"none\" stroke=\"black\" d=\"M894,-222.907C894,-214.649 894,-205.864 894,-197.302\"/>\r\n",
       "<polygon fill=\"black\" stroke=\"black\" points=\"897.5,-197.021 894,-187.021 890.5,-197.021 897.5,-197.021\"/>\r\n",
       "</g>\r\n",
       "<!-- 12 -->\r\n",
       "<g id=\"node13\" class=\"node\"><title>12</title>\r\n",
       "<polygon fill=\"#fffefe\" stroke=\"black\" points=\"1248,-187 1068,-187 1068,-104 1248,-104 1248,-187\"/>\r\n",
       "<text text-anchor=\"middle\" x=\"1158\" y=\"-171.8\" font-family=\"Times New Roman,serif\" font-size=\"14.00\">amount &lt;= 999.735</text>\r\n",
       "<text text-anchor=\"middle\" x=\"1158\" y=\"-156.8\" font-family=\"Times New Roman,serif\" font-size=\"14.00\">gini = 0.648</text>\r\n",
       "<text text-anchor=\"middle\" x=\"1158\" y=\"-141.8\" font-family=\"Times New Roman,serif\" font-size=\"14.00\">samples = 18056</text>\r\n",
       "<text text-anchor=\"middle\" x=\"1158\" y=\"-126.8\" font-family=\"Times New Roman,serif\" font-size=\"14.00\">value = [7068, 0, 3991, 6997]</text>\r\n",
       "<text text-anchor=\"middle\" x=\"1158\" y=\"-111.8\" font-family=\"Times New Roman,serif\" font-size=\"14.00\">class = 2</text>\r\n",
       "</g>\r\n",
       "<!-- 8&#45;&gt;12 -->\r\n",
       "<g id=\"edge12\" class=\"edge\"><title>8&#45;&gt;12</title>\r\n",
       "<path fill=\"none\" stroke=\"black\" d=\"M985.593,-222.907C1009.13,-212.478 1034.56,-201.208 1058.47,-190.609\"/>\r\n",
       "<polygon fill=\"black\" stroke=\"black\" points=\"1060.18,-193.68 1067.91,-186.428 1057.35,-187.28 1060.18,-193.68\"/>\r\n",
       "</g>\r\n",
       "<!-- 10 -->\r\n",
       "<g id=\"node11\" class=\"node\"><title>10</title>\r\n",
       "<polygon fill=\"#eca3f3\" stroke=\"black\" points=\"898,-68 738,-68 738,-0 898,-0 898,-68\"/>\r\n",
       "<text text-anchor=\"middle\" x=\"818\" y=\"-52.8\" font-family=\"Times New Roman,serif\" font-size=\"14.00\">gini = 0.454</text>\r\n",
       "<text text-anchor=\"middle\" x=\"818\" y=\"-37.8\" font-family=\"Times New Roman,serif\" font-size=\"14.00\">samples = 12000</text>\r\n",
       "<text text-anchor=\"middle\" x=\"818\" y=\"-22.8\" font-family=\"Times New Roman,serif\" font-size=\"14.00\">value = [0, 0, 4179, 7821]</text>\r\n",
       "<text text-anchor=\"middle\" x=\"818\" y=\"-7.8\" font-family=\"Times New Roman,serif\" font-size=\"14.00\">class = 3</text>\r\n",
       "</g>\r\n",
       "<!-- 9&#45;&gt;10 -->\r\n",
       "<g id=\"edge10\" class=\"edge\"><title>9&#45;&gt;10</title>\r\n",
       "<path fill=\"none\" stroke=\"black\" d=\"M865.7,-103.726C859.56,-94.879 853.057,-85.51 846.894,-76.6303\"/>\r\n",
       "<polygon fill=\"black\" stroke=\"black\" points=\"849.689,-74.5191 841.112,-68.2996 843.939,-78.5104 849.689,-74.5191\"/>\r\n",
       "</g>\r\n",
       "<!-- 11 -->\r\n",
       "<g id=\"node12\" class=\"node\"><title>11</title>\r\n",
       "<polygon fill=\"#fae6fc\" stroke=\"black\" points=\"1049.5,-68 916.5,-68 916.5,-0 1049.5,-0 1049.5,-68\"/>\r\n",
       "<text text-anchor=\"middle\" x=\"983\" y=\"-52.8\" font-family=\"Times New Roman,serif\" font-size=\"14.00\">gini = 0.498</text>\r\n",
       "<text text-anchor=\"middle\" x=\"983\" y=\"-37.8\" font-family=\"Times New Roman,serif\" font-size=\"14.00\">samples = 131</text>\r\n",
       "<text text-anchor=\"middle\" x=\"983\" y=\"-22.8\" font-family=\"Times New Roman,serif\" font-size=\"14.00\">value = [0, 0, 61, 70]</text>\r\n",
       "<text text-anchor=\"middle\" x=\"983\" y=\"-7.8\" font-family=\"Times New Roman,serif\" font-size=\"14.00\">class = 3</text>\r\n",
       "</g>\r\n",
       "<!-- 9&#45;&gt;11 -->\r\n",
       "<g id=\"edge11\" class=\"edge\"><title>9&#45;&gt;11</title>\r\n",
       "<path fill=\"none\" stroke=\"black\" d=\"M927.14,-103.726C934.479,-94.6966 942.26,-85.1235 949.609,-76.0816\"/>\r\n",
       "<polygon fill=\"black\" stroke=\"black\" points=\"952.343,-78.2672 955.935,-68.2996 946.911,-73.8521 952.343,-78.2672\"/>\r\n",
       "</g>\r\n",
       "<!-- 13 -->\r\n",
       "<g id=\"node14\" class=\"node\"><title>13</title>\r\n",
       "<polygon fill=\"#fdf5f0\" stroke=\"black\" points=\"1248,-68 1068,-68 1068,-0 1248,-0 1248,-68\"/>\r\n",
       "<text text-anchor=\"middle\" x=\"1158\" y=\"-52.8\" font-family=\"Times New Roman,serif\" font-size=\"14.00\">gini = 0.646</text>\r\n",
       "<text text-anchor=\"middle\" x=\"1158\" y=\"-37.8\" font-family=\"Times New Roman,serif\" font-size=\"14.00\">samples = 10906</text>\r\n",
       "<text text-anchor=\"middle\" x=\"1158\" y=\"-22.8\" font-family=\"Times New Roman,serif\" font-size=\"14.00\">value = [4515, 0, 3990, 2401]</text>\r\n",
       "<text text-anchor=\"middle\" x=\"1158\" y=\"-7.8\" font-family=\"Times New Roman,serif\" font-size=\"14.00\">class = 2</text>\r\n",
       "</g>\r\n",
       "<!-- 12&#45;&gt;13 -->\r\n",
       "<g id=\"edge13\" class=\"edge\"><title>12&#45;&gt;13</title>\r\n",
       "<path fill=\"none\" stroke=\"black\" d=\"M1158,-103.726C1158,-95.5175 1158,-86.8595 1158,-78.56\"/>\r\n",
       "<polygon fill=\"black\" stroke=\"black\" points=\"1161.5,-78.2996 1158,-68.2996 1154.5,-78.2996 1161.5,-78.2996\"/>\r\n",
       "</g>\r\n",
       "<!-- 14 -->\r\n",
       "<g id=\"node15\" class=\"node\"><title>14</title>\r\n",
       "<polygon fill=\"#eda7f3\" stroke=\"black\" points=\"1426,-68 1266,-68 1266,-0 1426,-0 1426,-68\"/>\r\n",
       "<text text-anchor=\"middle\" x=\"1346\" y=\"-52.8\" font-family=\"Times New Roman,serif\" font-size=\"14.00\">gini = 0.459</text>\r\n",
       "<text text-anchor=\"middle\" x=\"1346\" y=\"-37.8\" font-family=\"Times New Roman,serif\" font-size=\"14.00\">samples = 7150</text>\r\n",
       "<text text-anchor=\"middle\" x=\"1346\" y=\"-22.8\" font-family=\"Times New Roman,serif\" font-size=\"14.00\">value = [2553, 0, 1, 4596]</text>\r\n",
       "<text text-anchor=\"middle\" x=\"1346\" y=\"-7.8\" font-family=\"Times New Roman,serif\" font-size=\"14.00\">class = 3</text>\r\n",
       "</g>\r\n",
       "<!-- 12&#45;&gt;14 -->\r\n",
       "<g id=\"edge14\" class=\"edge\"><title>12&#45;&gt;14</title>\r\n",
       "<path fill=\"none\" stroke=\"black\" d=\"M1227.74,-103.882C1245,-93.8269 1263.44,-83.0892 1280.49,-73.1563\"/>\r\n",
       "<polygon fill=\"black\" stroke=\"black\" points=\"1282.39,-76.1008 1289.27,-68.0433 1278.87,-70.052 1282.39,-76.1008\"/>\r\n",
       "</g>\r\n",
       "</g>\r\n",
       "</svg>\r\n"
      ],
      "text/plain": [
       "<graphviz.files.Source at 0x1779265bbe0>"
      ]
     },
     "execution_count": 20,
     "metadata": {},
     "output_type": "execute_result"
    }
   ],
   "source": [
    "#apply the graphviz tree plotting function to my model and data\n",
    "dot_data = tree.export_graphviz(model, max_depth=3,  \n",
    "                                feature_names=X.columns,  \n",
    "                                class_names=y_str,\n",
    "                                filled=True)\n",
    "# Draw graph\n",
    "pydot_graph = pydotplus.graph_from_dot_data(dot_data)\n",
    "pydot_graph.set_size('\"8,8!\"')\n",
    "#pydot_graph.write_png('resized_tree.png')\n",
    "\n",
    "graph = graphviz.Source(dot_data, format=\"png\") \n",
    "graph "
   ]
  },
  {
   "cell_type": "code",
   "execution_count": 21,
   "metadata": {},
   "outputs": [
    {
     "data": {
      "text/plain": [
       "'decision_tree_graphivz.png'"
      ]
     },
     "execution_count": 21,
     "metadata": {},
     "output_type": "execute_result"
    }
   ],
   "source": [
    "#output a .png file of graphviz tree & save to directory with jup nb\n",
    "graph.render(\"decision_tree_graphivz\")"
   ]
  },
  {
   "cell_type": "markdown",
   "metadata": {},
   "source": [
    "*Notes*\n",
    "* investigate In(19). i'm not sure what pydot_graph and graph lines are doing or if i need them.\n",
    "* ```tree = plot_tree(model, max_depth=3, feature_names=X.columns, \n",
    "                 class_names =['0','1', '2','3'], filled = True, fontsize=14)``` displays a visual plot of the model. \n",
    "* because that version of the tree was a bit crowded after i increased the fontsize of the nodes/leaves, i plotted the tree using the graphviz pkg. \n",
    "* the nodes of the tree tells us what feature-value the model splits the data at during each iteration (e.g. it first splits the data using the amount <= to 499.95, the child nodes then tell us the data was split using the in-store <=0.5, and so on).\n",
    "* each node/leaf also tells us the gini co-efficient of that node. can't remember what that means, but i know lower is better. if a partition has all and only observations within a single region (in this example), the gini will be 0.\n",
    "* samples = tells us how many observations from the data set are in that partition, so as we move down a branch from top to bottom the sample = number should be getting smaller and smaller as the model partitions the data into smaller and smaller sections.\n",
    "* the value = line tells us how many observations are in each partition at that node/leaf. (e.g. in the age<= 55.5 node we find out that there are 4091 obs. in region 1, 0 in region 2, 3676 in region 3, and 2047 in region 4).\n",
    "* class = is telling us the what region the model is predicting (at that point in the tree) for all the observations in that partition...i'm not sure this make sense, review later.  \n",
    "* decision trees can also be plotted using the dtreeviz pkg—these are the best looking. for more info see [this github post](https://github.com/parrt/dtreeviz)  \n",
    "¿ can/how do you recover the accuracy score for the model from the plot of the decision tree? \n",
    "\n",
    "---"
   ]
  },
  {
   "cell_type": "markdown",
   "metadata": {},
   "source": [
    "### Experiment with Model Parameters"
   ]
  },
  {
   "cell_type": "markdown",
   "metadata": {},
   "source": [
    "#### gini → entropy"
   ]
  },
  {
   "cell_type": "code",
   "execution_count": 22,
   "metadata": {},
   "outputs": [],
   "source": [
    "#changing default gini criterion to entropy\n",
    "algo_ent = DecisionTreeClassifier(criterion='entropy', max_depth=3)\n",
    "\n",
    "#train the decision tree algorithm on the training data\n",
    "model_ent = algo_ent.fit(X_train, y_train)"
   ]
  },
  {
   "cell_type": "code",
   "execution_count": 23,
   "metadata": {},
   "outputs": [],
   "source": [
    "#run model on X_test and predict values in y_test \n",
    "preds_ent = model_ent.predict(X_test)"
   ]
  },
  {
   "cell_type": "code",
   "execution_count": 24,
   "metadata": {
    "scrolled": true
   },
   "outputs": [
    {
     "name": "stdout",
     "output_type": "stream",
     "text": [
      "              precision    recall  f1-score   support\n",
      "\n",
      "           1       0.40      0.56      0.47      4838\n",
      "           2       0.90      1.00      0.95      5979\n",
      "           3       0.54      0.22      0.31      5391\n",
      "           4       0.65      0.70      0.67      7786\n",
      "\n",
      "    accuracy                           0.64     23994\n",
      "   macro avg       0.62      0.62      0.60     23994\n",
      "weighted avg       0.64      0.64      0.62     23994\n",
      "\n"
     ]
    }
   ],
   "source": [
    "#check model's predicted values against actual values (ground truth) in y_test \n",
    "#and report the results\n",
    "print(classification_report(y_test, preds_ent))"
   ]
  },
  {
   "cell_type": "markdown",
   "metadata": {},
   "source": [
    "*Notes*\n",
    "* gini is the default for the model and is a measure of impurity\n",
    "* entropy is a measure of information gain\n",
    "* both gini and entropy are measures of information gain"
   ]
  },
  {
   "cell_type": "markdown",
   "metadata": {},
   "source": [
    "---"
   ]
  },
  {
   "cell_type": "markdown",
   "metadata": {},
   "source": [
    "#### max_depth 3 → 4"
   ]
  },
  {
   "cell_type": "code",
   "execution_count": 25,
   "metadata": {},
   "outputs": [],
   "source": [
    "#change max depth from 3 to 4\n",
    "algo_ent4 = DecisionTreeClassifier(criterion='entropy', max_depth=4)\n",
    "\n",
    "#train the decision tree algorithm on the training data\n",
    "model_ent4 = algo_ent4.fit(X_train, y_train)"
   ]
  },
  {
   "cell_type": "code",
   "execution_count": 26,
   "metadata": {},
   "outputs": [],
   "source": [
    "#run model on X_test and predict values in y_test \n",
    "preds_ent4 = model_ent4.predict(X_test)"
   ]
  },
  {
   "cell_type": "code",
   "execution_count": 27,
   "metadata": {
    "scrolled": true
   },
   "outputs": [
    {
     "name": "stdout",
     "output_type": "stream",
     "text": [
      "              precision    recall  f1-score   support\n",
      "\n",
      "           1       0.40      0.53      0.46      4838\n",
      "           2       0.90      1.00      0.95      5979\n",
      "           3       0.53      0.23      0.32      5391\n",
      "           4       0.65      0.72      0.68      7786\n",
      "\n",
      "    accuracy                           0.64     23994\n",
      "   macro avg       0.62      0.62      0.60     23994\n",
      "weighted avg       0.64      0.64      0.62     23994\n",
      "\n"
     ]
    }
   ],
   "source": [
    "#check model's predicted values against actual values (ground truth) in y_test \n",
    "#and report the results\n",
    "print(classification_report(y_test, preds_ent4))"
   ]
  },
  {
   "cell_type": "markdown",
   "metadata": {},
   "source": [
    "*Notes*  \n",
    "* these scores are identical to scores for max depth 3 model. not sure if that's b/c i did something wrong or the model doesn't gain any predictive power after depth 3\n",
    "    * ben said it's b/c the model doesn't improve beyond max depth 3\n",
    "    \n",
    "---"
   ]
  },
  {
   "cell_type": "markdown",
   "metadata": {},
   "source": [
    "##### max depth 4 → 1 "
   ]
  },
  {
   "cell_type": "code",
   "execution_count": 28,
   "metadata": {},
   "outputs": [],
   "source": [
    "#change max depth from 4 to 1\n",
    "algo_ent1 = DecisionTreeClassifier(criterion='entropy', max_depth=1)\n",
    "\n",
    "#train the decision tree algorithm on the training data\n",
    "model_ent1 = algo_ent1.fit(X_train, y_train)"
   ]
  },
  {
   "cell_type": "code",
   "execution_count": 29,
   "metadata": {},
   "outputs": [],
   "source": [
    "#run model on X_test and predict values in y_test \n",
    "preds_ent1 = model_ent1.predict(X_test)"
   ]
  },
  {
   "cell_type": "code",
   "execution_count": 30,
   "metadata": {
    "scrolled": true
   },
   "outputs": [
    {
     "name": "stdout",
     "output_type": "stream",
     "text": [
      "              precision    recall  f1-score   support\n",
      "\n",
      "           1       0.40      1.00      0.57      4838\n",
      "           2       0.50      1.00      0.67      5979\n",
      "           3       0.00      0.00      0.00      5391\n",
      "           4       0.00      0.00      0.00      7786\n",
      "\n",
      "    accuracy                           0.45     23994\n",
      "   macro avg       0.23      0.50      0.31     23994\n",
      "weighted avg       0.21      0.45      0.28     23994\n",
      "\n"
     ]
    },
    {
     "name": "stderr",
     "output_type": "stream",
     "text": [
      "C:\\Users\\kpiat\\anaconda3\\envs\\course1-env\\lib\\site-packages\\sklearn\\metrics\\_classification.py:1221: UndefinedMetricWarning: Precision and F-score are ill-defined and being set to 0.0 in labels with no predicted samples. Use `zero_division` parameter to control this behavior.\n",
      "  _warn_prf(average, modifier, msg_start, len(result))\n"
     ]
    }
   ],
   "source": [
    "#check model's predicted values against actual values (ground truth)\n",
    "#in y_test and report the results\n",
    "print(classification_report(y_test, preds_ent1))"
   ]
  },
  {
   "cell_type": "markdown",
   "metadata": {},
   "source": [
    "*Notes*\n",
    "* i think this warning appeared because there were no observations in regions 3 & 4 after the split represented in the root node of the tree. but with max depth of the tree set to 1, there are no more splits in the data (***verify***)  \n",
    "---"
   ]
  },
  {
   "cell_type": "markdown",
   "metadata": {},
   "source": [
    "# cross validation"
   ]
  },
  {
   "cell_type": "markdown",
   "metadata": {},
   "source": [
    "how does cross validation decrease the chance that a ML model will be overfit?\n",
    "* basically because you are testing and training the model on several smaller datasets (the folds), and then averaging the results of each of those to come up with the final model, it's more likely the overfitting will be smoothed out in the average. say the first model is overfit by .6, ***I DON'T THINK THIS IS CORRECT. I'VE DONE A LOT OF RESEARCH AND CANNOT FIND A SATISFACTORY ANSWER***"
   ]
  },
  {
   "cell_type": "markdown",
   "metadata": {},
   "source": [
    "###### 3-fold model"
   ]
  },
  {
   "cell_type": "code",
   "execution_count": 31,
   "metadata": {},
   "outputs": [
    {
     "name": "stdout",
     "output_type": "stream",
     "text": [
      "[0.56372843 0.56282821 0.56078623]\n"
     ]
    }
   ],
   "source": [
    "#instatiate cross validation model with decision tree algorithm\n",
    "cv_model = DecisionTreeClassifier(random_state=123)\n",
    "\n",
    "#apply model with 3 fold to dataset\n",
    "scores = cross_val_score(cv_model, X, y, cv = 3)\n",
    "print(scores)"
   ]
  },
  {
   "cell_type": "code",
   "execution_count": 32,
   "metadata": {},
   "outputs": [
    {
     "name": "stdout",
     "output_type": "stream",
     "text": [
      "0.5624476217332588\n"
     ]
    }
   ],
   "source": [
    "#calculate mean of accuracy scores from each fold\n",
    "avg_score = np.mean(scores)\n",
    "print(avg_score)"
   ]
  },
  {
   "cell_type": "markdown",
   "metadata": {},
   "source": [
    "###### 4-fold model"
   ]
  },
  {
   "cell_type": "code",
   "execution_count": 33,
   "metadata": {},
   "outputs": [
    {
     "name": "stdout",
     "output_type": "stream",
     "text": [
      "[0.56464116 0.56934234 0.56174044 0.56021807]\n"
     ]
    }
   ],
   "source": [
    "#apply 4-fold-model to data\n",
    "scores = cross_val_score(cv_model, X, y, cv =4)\n",
    "print(scores)"
   ]
  },
  {
   "cell_type": "code",
   "execution_count": 34,
   "metadata": {},
   "outputs": [
    {
     "name": "stdout",
     "output_type": "stream",
     "text": [
      "0.5639854991005929\n"
     ]
    }
   ],
   "source": [
    "#calculate mean of accuracy scores from each fold\n",
    "avg_score = np.mean(scores)\n",
    "print(avg_score)"
   ]
  },
  {
   "cell_type": "markdown",
   "metadata": {},
   "source": [
    "###### 8-fold model"
   ]
  },
  {
   "cell_type": "code",
   "execution_count": 35,
   "metadata": {},
   "outputs": [
    {
     "name": "stdout",
     "output_type": "stream",
     "text": [
      "[0.5665133  0.56131226 0.56471294 0.56997099 0.5616685  0.56346904\n",
      " 0.56036811 0.56376913]\n"
     ]
    }
   ],
   "source": [
    "#apply 8-fold model to data\n",
    "scores = cross_val_score(cv_model, X, y, cv = 8)\n",
    "print(scores)"
   ]
  },
  {
   "cell_type": "code",
   "execution_count": 36,
   "metadata": {},
   "outputs": [
    {
     "name": "stdout",
     "output_type": "stream",
     "text": [
      "0.5639730351792075\n"
     ]
    }
   ],
   "source": [
    "#calculate mean of accuracy scores from each fold\n",
    "avg_score = np.mean(scores)\n",
    "print(avg_score)"
   ]
  },
  {
   "cell_type": "markdown",
   "metadata": {},
   "source": [
    "###### 20-fold model"
   ]
  },
  {
   "cell_type": "code",
   "execution_count": 37,
   "metadata": {},
   "outputs": [
    {
     "name": "stdout",
     "output_type": "stream",
     "text": [
      "[0.57189297 0.56764191 0.55938985 0.55513878 0.55188797 0.5643911\n",
      " 0.55313828 0.56814204 0.5603901  0.56764191 0.56539135 0.55613903\n",
      " 0.57264316 0.5643911  0.56189047 0.55313828 0.55513878 0.5423856\n",
      " 0.55763941 0.55227614]\n"
     ]
    }
   ],
   "source": [
    "#apply 20 fold model to data\n",
    "scores = cross_val_score(cv_model, X, y, cv = 20)\n",
    "print(scores)"
   ]
  },
  {
   "cell_type": "code",
   "execution_count": 38,
   "metadata": {},
   "outputs": [
    {
     "name": "stdout",
     "output_type": "stream",
     "text": [
      "0.5600344120547396\n"
     ]
    }
   ],
   "source": [
    "#calculate mean of accuracy scores from each fold\n",
    "avg_score = np.mean(scores)\n",
    "print(avg_score)"
   ]
  },
  {
   "cell_type": "markdown",
   "metadata": {},
   "source": [
    "*Notes*  \n",
    "* i'm not sure how to choose the optimal number of folds. \n",
    "* i expected the accuracy of the model to improve at least slightly (up to a point) the more folds you used in the cv model because i was mistakenly thinking that in a cv model, the model was adjusted after being trained on each fold, so that after training the final model was basically the average of the models trained on each fold. \n",
    "* however, after talking to david i now know that is not how it works. \n",
    "* when you specify the type of algorithm (e.g. decision tree, random forest), set the various parameters, and specify your feature and target variables—the model is set. the model is not changed/refined in the training on each fold. the same model is used on every fold\n",
    "* but then how does cross validation cut the risk of overfitting? basically, the accuracy scores on each fold should be roughly the same. if one accuracy score is very different than the others, you know that something is going on with that part of the data and you need to investigate to figure it out. (***verify: i'm not sure about this***)"
   ]
  },
  {
   "cell_type": "markdown",
   "metadata": {},
   "source": [
    "### try random forest and decision tree classifier models\n",
    "* to select the best model for our task, we should create, train, and test many different models based on different algorithms (e.g. 1NN, 3NN, KR-1, Random Forest) and then choose the one which one performs the best. "
   ]
  },
  {
   "cell_type": "code",
   "execution_count": 39,
   "metadata": {},
   "outputs": [
    {
     "name": "stdout",
     "output_type": "stream",
     "text": [
      "[('Random Forest Classifier', RandomForestClassifier())]\n"
     ]
    }
   ],
   "source": [
    "#instead of preparing each model seperately, we can create a list\n",
    "#and do them all at once\n",
    "\n",
    "#create an empty list\n",
    "algos_class =[]\n",
    "\n",
    "#add random rorest classifier algorithm to empty list\n",
    "algos_class.append(('Random Forest Classifier', RandomForestClassifier()))\n",
    "print(algos_class)"
   ]
  },
  {
   "cell_type": "code",
   "execution_count": 40,
   "metadata": {},
   "outputs": [
    {
     "name": "stdout",
     "output_type": "stream",
     "text": [
      "[('Random Forest Classifier', RandomForestClassifier()), ('Decision Tree Classifier', DecisionTreeClassifier())]\n"
     ]
    }
   ],
   "source": [
    "#add decision tree classifier algoritm to empty list\n",
    "algos_class.append(('Decision Tree Classifier', DecisionTreeClassifier()))\n",
    "print(algos_class)"
   ]
  },
  {
   "cell_type": "code",
   "execution_count": 41,
   "metadata": {},
   "outputs": [
    {
     "name": "stdout",
     "output_type": "stream",
     "text": [
      "Random Forest Classifier 0.5847409590497329\n",
      "Decision Tree Classifier 0.5624976337673826\n"
     ]
    }
   ],
   "source": [
    "#create an empty list to hold the cross validation results for each model\n",
    "results = []\n",
    "names = []\n",
    "\n",
    "for name, model in algos_class: \n",
    "    result = cross_val_score(model, X, y, cv=3, scoring = 'accuracy')\n",
    "    names.append(name)\n",
    "    results.append(result)\n",
    "    \n",
    "for i in range(len(names)):\n",
    "    print(names[i], results[i].mean())"
   ]
  },
  {
   "cell_type": "markdown",
   "metadata": {},
   "source": [
    "*Notes*  \n",
    "\n",
    "☼ IndentationError fix: i repeatedly got an indentation error when running ```for name, model in algos_class:``` i think b/c i didn't have a empty line after the ```results.append(result)```  \n",
    "\n",
    "☼ at first i could only get decision tree result to print, then realized i needed to embed second for loop within the first for loop. but now the random forest result is printing twice!\n",
    "\n",
    "¿would you choose the random forest or decision tree model for the project? why?\n",
    "* based on what i know now, i don't think i would choose either one because neither reaches the treshold of 75% accuracy. both models are little better than chance at predicting the region of a transaction. \n",
    "* i have since read that data scientists use occam's razor. so if two models have the same predictive power, you should always choose the simpiler one. "
   ]
  },
  {
   "cell_type": "markdown",
   "metadata": {},
   "source": [
    "---\n",
    "# more Experimentation\n",
    "* make changes to the data, train the models on the altered data, and compare and contrast the results\n",
    "* ideally, your model should have > 75% accuracy"
   ]
  },
  {
   "cell_type": "markdown",
   "metadata": {},
   "source": [
    "#### discretize age and use it as DV, experiment with different numbers of bins\n",
    "\n",
    "*feature_engine discretizer\n",
    "* ```EqualWidthDiscretiser```\n",
    "* pkg depends on sklearn KBinsDiscretizer\n",
    "\n",
    "*sklearn discretizer functions*\n",
    "* the equal width bins discretizer: ```discretizer_ew = KBinsDiscretizer(n_bins=3, encode='ordinal', strategy='uniform')``` \n",
    "* the equal frequency bins discretizer: ```discretizer_ef = KBinsDiscretizer(n_bins=3, encode=\"ordinal\", strategy='uniform')``` \n",
    "\n",
    "*pandas discretizer functions*\n",
    "* ```cut()```\n",
    "* ```qcut()```\n",
    "\n",
    "*numpy discretizer functions*\n",
    "* ```digitize```"
   ]
  },
  {
   "cell_type": "code",
   "execution_count": 42,
   "metadata": {},
   "outputs": [],
   "source": [
    "#import pkgs needed to discretize variables\n",
    "from sklearn.preprocessing import KBinsDiscretizer\n",
    "from feature_engine.discretisers import EqualWidthDiscretiser"
   ]
  },
  {
   "cell_type": "markdown",
   "metadata": {},
   "source": [
    "*notes*  \n",
    "\n",
    "☼ install fix: first try feature_engine would not install because pkg was not found. then david helped me install it from the conda forge repo. in a conda terminal with the relevant ve activated, type ```conda install -c conda-forge feature_engine```\n",
    "* i asked about doing it with pip. he said avoid if possible b/c pip sometimes stores files in weird places and end up breaking later. so just install from conda repos if possible\n"
   ]
  },
  {
   "cell_type": "markdown",
   "metadata": {},
   "source": [
    "###### Discretize age — 3 bins"
   ]
  },
  {
   "cell_type": "code",
   "execution_count": 43,
   "metadata": {},
   "outputs": [],
   "source": [
    "#instantiate the feature_engine equal width discretizer function and give\n",
    "#instructions on variable to discretize and how many bins to use\n",
    "disc_fe = EqualWidthDiscretiser(bins=3, variables = ['age'])"
   ]
  },
  {
   "cell_type": "code",
   "execution_count": 44,
   "metadata": {},
   "outputs": [
    {
     "data": {
      "text/plain": [
       "EqualWidthDiscretiser(bins=3, variables=['age'])"
      ]
     },
     "execution_count": 44,
     "metadata": {},
     "output_type": "execute_result"
    }
   ],
   "source": [
    "#apply the discretizer function to the X data\n",
    "disc_fe.fit(data)"
   ]
  },
  {
   "cell_type": "code",
   "execution_count": 45,
   "metadata": {},
   "outputs": [],
   "source": [
    "#create a new dataframe that replaces age with the discretized version of age\n",
    "X_disc_age = disc_fe.transform(data)"
   ]
  },
  {
   "cell_type": "code",
   "execution_count": 46,
   "metadata": {},
   "outputs": [
    {
     "data": {
      "text/html": [
       "<div>\n",
       "<style scoped>\n",
       "    .dataframe tbody tr th:only-of-type {\n",
       "        vertical-align: middle;\n",
       "    }\n",
       "\n",
       "    .dataframe tbody tr th {\n",
       "        vertical-align: top;\n",
       "    }\n",
       "\n",
       "    .dataframe thead th {\n",
       "        text-align: right;\n",
       "    }\n",
       "</style>\n",
       "<table border=\"1\" class=\"dataframe\">\n",
       "  <thead>\n",
       "    <tr style=\"text-align: right;\">\n",
       "      <th></th>\n",
       "      <th>in-store</th>\n",
       "      <th>age</th>\n",
       "      <th>items</th>\n",
       "      <th>amount</th>\n",
       "      <th>region</th>\n",
       "    </tr>\n",
       "  </thead>\n",
       "  <tbody>\n",
       "    <tr>\n",
       "      <th>0</th>\n",
       "      <td>0</td>\n",
       "      <td>0</td>\n",
       "      <td>4</td>\n",
       "      <td>281.03</td>\n",
       "      <td>2</td>\n",
       "    </tr>\n",
       "    <tr>\n",
       "      <th>1</th>\n",
       "      <td>0</td>\n",
       "      <td>0</td>\n",
       "      <td>2</td>\n",
       "      <td>219.51</td>\n",
       "      <td>2</td>\n",
       "    </tr>\n",
       "    <tr>\n",
       "      <th>2</th>\n",
       "      <td>1</td>\n",
       "      <td>1</td>\n",
       "      <td>3</td>\n",
       "      <td>1525.70</td>\n",
       "      <td>4</td>\n",
       "    </tr>\n",
       "    <tr>\n",
       "      <th>3</th>\n",
       "      <td>1</td>\n",
       "      <td>1</td>\n",
       "      <td>3</td>\n",
       "      <td>715.25</td>\n",
       "      <td>3</td>\n",
       "    </tr>\n",
       "    <tr>\n",
       "      <th>4</th>\n",
       "      <td>1</td>\n",
       "      <td>0</td>\n",
       "      <td>4</td>\n",
       "      <td>1937.50</td>\n",
       "      <td>1</td>\n",
       "    </tr>\n",
       "  </tbody>\n",
       "</table>\n",
       "</div>"
      ],
      "text/plain": [
       "   in-store  age  items   amount  region\n",
       "0         0    0      4   281.03       2\n",
       "1         0    0      2   219.51       2\n",
       "2         1    1      3  1525.70       4\n",
       "3         1    1      3   715.25       3\n",
       "4         1    0      4  1937.50       1"
      ]
     },
     "execution_count": 46,
     "metadata": {},
     "output_type": "execute_result"
    }
   ],
   "source": [
    "#look at first 5 rows of new dataframe to ensure the above process was successful\n",
    "X_disc_age.head()"
   ]
  },
  {
   "cell_type": "code",
   "execution_count": 47,
   "metadata": {},
   "outputs": [
    {
     "name": "stdout",
     "output_type": "stream",
     "text": [
      "Random Forest Classifier 1.0\n",
      "Decision Tree Classifier 1.0\n"
     ]
    }
   ],
   "source": [
    "#create an empty list to hold the cross validation results for each model\n",
    "results_disc_age = []\n",
    "names_disc_age = []\n",
    "\n",
    "for name, model in algos_class: \n",
    "    result = cross_val_score(model, X_disc_age, y, cv=3, scoring = 'accuracy')\n",
    "    names_disc_age.append(name)\n",
    "    results_disc_age.append(result)\n",
    "    \n",
    "for i in range(len(names)):\n",
    "    print(names_disc_age[i], results_disc_age[i].mean())"
   ]
  },
  {
   "cell_type": "code",
   "execution_count": 48,
   "metadata": {},
   "outputs": [],
   "source": [
    "#instantiate the feature_engine equal width discretizer function and give instructions on which\n",
    "#variable to discretize and how many bins to use\n",
    "disc_fe50 = EqualWidthDiscretiser(bins=50, variables = ['age'])"
   ]
  },
  {
   "cell_type": "code",
   "execution_count": 49,
   "metadata": {},
   "outputs": [
    {
     "data": {
      "text/plain": [
       "EqualWidthDiscretiser(bins=50, variables=['age'])"
      ]
     },
     "execution_count": 49,
     "metadata": {},
     "output_type": "execute_result"
    }
   ],
   "source": [
    "#apply the discretizer function to the X data\n",
    "disc_fe50.fit(X)"
   ]
  },
  {
   "cell_type": "code",
   "execution_count": 50,
   "metadata": {},
   "outputs": [],
   "source": [
    "#create a new dataframe that replaces age with the discretized version of age\n",
    "X_disc_age50 = disc_fe50.transform(X)"
   ]
  },
  {
   "cell_type": "code",
   "execution_count": 51,
   "metadata": {},
   "outputs": [
    {
     "data": {
      "text/html": [
       "<div>\n",
       "<style scoped>\n",
       "    .dataframe tbody tr th:only-of-type {\n",
       "        vertical-align: middle;\n",
       "    }\n",
       "\n",
       "    .dataframe tbody tr th {\n",
       "        vertical-align: top;\n",
       "    }\n",
       "\n",
       "    .dataframe thead th {\n",
       "        text-align: right;\n",
       "    }\n",
       "</style>\n",
       "<table border=\"1\" class=\"dataframe\">\n",
       "  <thead>\n",
       "    <tr style=\"text-align: right;\">\n",
       "      <th></th>\n",
       "      <th>in-store</th>\n",
       "      <th>age</th>\n",
       "      <th>items</th>\n",
       "      <th>amount</th>\n",
       "    </tr>\n",
       "  </thead>\n",
       "  <tbody>\n",
       "    <tr>\n",
       "      <th>0</th>\n",
       "      <td>0</td>\n",
       "      <td>14</td>\n",
       "      <td>4</td>\n",
       "      <td>281.03</td>\n",
       "    </tr>\n",
       "    <tr>\n",
       "      <th>1</th>\n",
       "      <td>0</td>\n",
       "      <td>12</td>\n",
       "      <td>2</td>\n",
       "      <td>219.51</td>\n",
       "    </tr>\n",
       "    <tr>\n",
       "      <th>2</th>\n",
       "      <td>1</td>\n",
       "      <td>20</td>\n",
       "      <td>3</td>\n",
       "      <td>1525.70</td>\n",
       "    </tr>\n",
       "    <tr>\n",
       "      <th>3</th>\n",
       "      <td>1</td>\n",
       "      <td>20</td>\n",
       "      <td>3</td>\n",
       "      <td>715.25</td>\n",
       "    </tr>\n",
       "    <tr>\n",
       "      <th>4</th>\n",
       "      <td>1</td>\n",
       "      <td>11</td>\n",
       "      <td>4</td>\n",
       "      <td>1937.50</td>\n",
       "    </tr>\n",
       "  </tbody>\n",
       "</table>\n",
       "</div>"
      ],
      "text/plain": [
       "   in-store  age  items   amount\n",
       "0         0   14      4   281.03\n",
       "1         0   12      2   219.51\n",
       "2         1   20      3  1525.70\n",
       "3         1   20      3   715.25\n",
       "4         1   11      4  1937.50"
      ]
     },
     "execution_count": 51,
     "metadata": {},
     "output_type": "execute_result"
    }
   ],
   "source": [
    "X_disc_age50.head()"
   ]
  },
  {
   "cell_type": "code",
   "execution_count": 52,
   "metadata": {},
   "outputs": [
    {
     "name": "stdout",
     "output_type": "stream",
     "text": [
      "[0.58445861 0.58170793 0.57964491 0.5803951  0.57405439]\n"
     ]
    }
   ],
   "source": [
    "cv_model = RandomForestClassifier()\n",
    "print(cross_val_score(cv_model, X_disc_age50, y, cv=5))"
   ]
  },
  {
   "cell_type": "markdown",
   "metadata": {},
   "source": [
    "---"
   ]
  },
  {
   "cell_type": "markdown",
   "metadata": {},
   "source": [
    "#### discretize amount and use it as the dv. can a useful model be constructed?"
   ]
  },
  {
   "cell_type": "markdown",
   "metadata": {},
   "source": [
    "Steps  \n",
    "1. re-order data so 'amount' is on right end of df\n",
    "2. specify features and target variables\n",
    "3. discretize 'amount' variable  \n",
    "    a. instantiate discretizer function  \n",
    "    b. apply disc. function to 'amount' var  \n",
    "    c. create new df with discretized amount var subbed in\n",
    "4. instantiate the decision tree cv model\n",
    "5. apply cv model to X and disc_y and print cross val score\n",
    "6. interpret results"
   ]
  },
  {
   "cell_type": "markdown",
   "metadata": {},
   "source": [
    "###### Step 1: reorder data"
   ]
  },
  {
   "cell_type": "code",
   "execution_count": 53,
   "metadata": {},
   "outputs": [
    {
     "data": {
      "text/html": [
       "<div>\n",
       "<style scoped>\n",
       "    .dataframe tbody tr th:only-of-type {\n",
       "        vertical-align: middle;\n",
       "    }\n",
       "\n",
       "    .dataframe tbody tr th {\n",
       "        vertical-align: top;\n",
       "    }\n",
       "\n",
       "    .dataframe thead th {\n",
       "        text-align: right;\n",
       "    }\n",
       "</style>\n",
       "<table border=\"1\" class=\"dataframe\">\n",
       "  <thead>\n",
       "    <tr style=\"text-align: right;\">\n",
       "      <th></th>\n",
       "      <th>in-store</th>\n",
       "      <th>age</th>\n",
       "      <th>items</th>\n",
       "      <th>region</th>\n",
       "      <th>amount</th>\n",
       "    </tr>\n",
       "  </thead>\n",
       "  <tbody>\n",
       "    <tr>\n",
       "      <th>0</th>\n",
       "      <td>0</td>\n",
       "      <td>37</td>\n",
       "      <td>4</td>\n",
       "      <td>2</td>\n",
       "      <td>281.03</td>\n",
       "    </tr>\n",
       "    <tr>\n",
       "      <th>1</th>\n",
       "      <td>0</td>\n",
       "      <td>35</td>\n",
       "      <td>2</td>\n",
       "      <td>2</td>\n",
       "      <td>219.51</td>\n",
       "    </tr>\n",
       "    <tr>\n",
       "      <th>2</th>\n",
       "      <td>1</td>\n",
       "      <td>45</td>\n",
       "      <td>3</td>\n",
       "      <td>4</td>\n",
       "      <td>1525.70</td>\n",
       "    </tr>\n",
       "    <tr>\n",
       "      <th>3</th>\n",
       "      <td>1</td>\n",
       "      <td>46</td>\n",
       "      <td>3</td>\n",
       "      <td>3</td>\n",
       "      <td>715.25</td>\n",
       "    </tr>\n",
       "    <tr>\n",
       "      <th>4</th>\n",
       "      <td>1</td>\n",
       "      <td>33</td>\n",
       "      <td>4</td>\n",
       "      <td>1</td>\n",
       "      <td>1937.50</td>\n",
       "    </tr>\n",
       "  </tbody>\n",
       "</table>\n",
       "</div>"
      ],
      "text/plain": [
       "   in-store  age  items  region   amount\n",
       "0         0   37      4       2   281.03\n",
       "1         0   35      2       2   219.51\n",
       "2         1   45      3       4  1525.70\n",
       "3         1   46      3       3   715.25\n",
       "4         1   33      4       1  1937.50"
      ]
     },
     "execution_count": 53,
     "metadata": {},
     "output_type": "execute_result"
    }
   ],
   "source": [
    "#re-order columns in df to put amount at the end\n",
    "data = data[['in-store', 'age', 'items', 'region', 'amount']]\n",
    "data.head()"
   ]
  },
  {
   "cell_type": "markdown",
   "metadata": {},
   "source": [
    "###### step 2: specify features and target"
   ]
  },
  {
   "cell_type": "code",
   "execution_count": 54,
   "metadata": {},
   "outputs": [
    {
     "data": {
      "text/html": [
       "<div>\n",
       "<style scoped>\n",
       "    .dataframe tbody tr th:only-of-type {\n",
       "        vertical-align: middle;\n",
       "    }\n",
       "\n",
       "    .dataframe tbody tr th {\n",
       "        vertical-align: top;\n",
       "    }\n",
       "\n",
       "    .dataframe thead th {\n",
       "        text-align: right;\n",
       "    }\n",
       "</style>\n",
       "<table border=\"1\" class=\"dataframe\">\n",
       "  <thead>\n",
       "    <tr style=\"text-align: right;\">\n",
       "      <th></th>\n",
       "      <th>in-store</th>\n",
       "      <th>age</th>\n",
       "      <th>items</th>\n",
       "      <th>region</th>\n",
       "    </tr>\n",
       "  </thead>\n",
       "  <tbody>\n",
       "    <tr>\n",
       "      <th>0</th>\n",
       "      <td>0</td>\n",
       "      <td>37</td>\n",
       "      <td>4</td>\n",
       "      <td>2</td>\n",
       "    </tr>\n",
       "    <tr>\n",
       "      <th>1</th>\n",
       "      <td>0</td>\n",
       "      <td>35</td>\n",
       "      <td>2</td>\n",
       "      <td>2</td>\n",
       "    </tr>\n",
       "    <tr>\n",
       "      <th>2</th>\n",
       "      <td>1</td>\n",
       "      <td>45</td>\n",
       "      <td>3</td>\n",
       "      <td>4</td>\n",
       "    </tr>\n",
       "    <tr>\n",
       "      <th>3</th>\n",
       "      <td>1</td>\n",
       "      <td>46</td>\n",
       "      <td>3</td>\n",
       "      <td>3</td>\n",
       "    </tr>\n",
       "    <tr>\n",
       "      <th>4</th>\n",
       "      <td>1</td>\n",
       "      <td>33</td>\n",
       "      <td>4</td>\n",
       "      <td>1</td>\n",
       "    </tr>\n",
       "  </tbody>\n",
       "</table>\n",
       "</div>"
      ],
      "text/plain": [
       "   in-store  age  items  region\n",
       "0         0   37      4       2\n",
       "1         0   35      2       2\n",
       "2         1   45      3       4\n",
       "3         1   46      3       3\n",
       "4         1   33      4       1"
      ]
     },
     "execution_count": 54,
     "metadata": {},
     "output_type": "execute_result"
    }
   ],
   "source": [
    "#set features of the model\n",
    "X = data.iloc[:, 0:4]\n",
    "X.head()"
   ]
  },
  {
   "cell_type": "code",
   "execution_count": 55,
   "metadata": {},
   "outputs": [
    {
     "data": {
      "text/plain": [
       "0     281.03\n",
       "1     219.51\n",
       "2    1525.70\n",
       "3     715.25\n",
       "4    1937.50\n",
       "Name: amount, dtype: float64"
      ]
     },
     "execution_count": 55,
     "metadata": {},
     "output_type": "execute_result"
    }
   ],
   "source": [
    "y = data['amount']\n",
    "y.head()"
   ]
  },
  {
   "cell_type": "markdown",
   "metadata": {},
   "source": [
    "###### step 3: discretize amount variable"
   ]
  },
  {
   "cell_type": "code",
   "execution_count": 56,
   "metadata": {},
   "outputs": [],
   "source": [
    "#instantiate discretizer function\n",
    "disc = EqualWidthDiscretiser(bins=3, variables = ['amount'])"
   ]
  },
  {
   "cell_type": "code",
   "execution_count": 57,
   "metadata": {},
   "outputs": [
    {
     "ename": "TypeError",
     "evalue": "The data set should be a pandas dataframe",
     "output_type": "error",
     "traceback": [
      "\u001b[1;31m---------------------------------------------------------------------------\u001b[0m",
      "\u001b[1;31mTypeError\u001b[0m                                 Traceback (most recent call last)",
      "\u001b[1;32m<ipython-input-57-6707b5ea1f42>\u001b[0m in \u001b[0;36m<module>\u001b[1;34m\u001b[0m\n\u001b[0;32m      1\u001b[0m \u001b[1;31m#apply discretizer function to y\u001b[0m\u001b[1;33m\u001b[0m\u001b[1;33m\u001b[0m\u001b[1;33m\u001b[0m\u001b[0m\n\u001b[1;32m----> 2\u001b[1;33m \u001b[0mdisc\u001b[0m\u001b[1;33m.\u001b[0m\u001b[0mfit\u001b[0m\u001b[1;33m(\u001b[0m\u001b[0my\u001b[0m\u001b[1;33m)\u001b[0m\u001b[1;33m\u001b[0m\u001b[1;33m\u001b[0m\u001b[0m\n\u001b[0m",
      "\u001b[1;32m~\\anaconda3\\envs\\course1-env\\lib\\site-packages\\feature_engine\\discretisers.py\u001b[0m in \u001b[0;36mfit\u001b[1;34m(self, X, y)\u001b[0m\n\u001b[0;32m    221\u001b[0m             \"\"\"\n\u001b[0;32m    222\u001b[0m         \u001b[1;31m# check input dataframe\u001b[0m\u001b[1;33m\u001b[0m\u001b[1;33m\u001b[0m\u001b[1;33m\u001b[0m\u001b[0m\n\u001b[1;32m--> 223\u001b[1;33m         \u001b[0mX\u001b[0m \u001b[1;33m=\u001b[0m \u001b[0msuper\u001b[0m\u001b[1;33m(\u001b[0m\u001b[1;33m)\u001b[0m\u001b[1;33m.\u001b[0m\u001b[0mfit\u001b[0m\u001b[1;33m(\u001b[0m\u001b[0mX\u001b[0m\u001b[1;33m,\u001b[0m \u001b[0my\u001b[0m\u001b[1;33m)\u001b[0m\u001b[1;33m\u001b[0m\u001b[1;33m\u001b[0m\u001b[0m\n\u001b[0m\u001b[0;32m    224\u001b[0m \u001b[1;33m\u001b[0m\u001b[0m\n\u001b[0;32m    225\u001b[0m         \u001b[1;31m# fit\u001b[0m\u001b[1;33m\u001b[0m\u001b[1;33m\u001b[0m\u001b[1;33m\u001b[0m\u001b[0m\n",
      "\u001b[1;32m~\\anaconda3\\envs\\course1-env\\lib\\site-packages\\feature_engine\\base_transformers.py\u001b[0m in \u001b[0;36mfit\u001b[1;34m(self, X, y)\u001b[0m\n\u001b[0;32m    143\u001b[0m     \u001b[1;32mdef\u001b[0m \u001b[0mfit\u001b[0m\u001b[1;33m(\u001b[0m\u001b[0mself\u001b[0m\u001b[1;33m,\u001b[0m \u001b[0mX\u001b[0m\u001b[1;33m,\u001b[0m \u001b[0my\u001b[0m\u001b[1;33m=\u001b[0m\u001b[1;32mNone\u001b[0m\u001b[1;33m)\u001b[0m\u001b[1;33m:\u001b[0m\u001b[1;33m\u001b[0m\u001b[1;33m\u001b[0m\u001b[0m\n\u001b[0;32m    144\u001b[0m         \u001b[1;31m# check input dataframe\u001b[0m\u001b[1;33m\u001b[0m\u001b[1;33m\u001b[0m\u001b[1;33m\u001b[0m\u001b[0m\n\u001b[1;32m--> 145\u001b[1;33m         \u001b[0mX\u001b[0m \u001b[1;33m=\u001b[0m \u001b[0m_is_dataframe\u001b[0m\u001b[1;33m(\u001b[0m\u001b[0mX\u001b[0m\u001b[1;33m)\u001b[0m\u001b[1;33m\u001b[0m\u001b[1;33m\u001b[0m\u001b[0m\n\u001b[0m\u001b[0;32m    146\u001b[0m \u001b[1;33m\u001b[0m\u001b[0m\n\u001b[0;32m    147\u001b[0m         \u001b[1;31m# find or check for numerical variables\u001b[0m\u001b[1;33m\u001b[0m\u001b[1;33m\u001b[0m\u001b[1;33m\u001b[0m\u001b[0m\n",
      "\u001b[1;32m~\\anaconda3\\envs\\course1-env\\lib\\site-packages\\feature_engine\\dataframe_checks.py\u001b[0m in \u001b[0;36m_is_dataframe\u001b[1;34m(X)\u001b[0m\n\u001b[0;32m      8\u001b[0m     \u001b[1;31m# important not to transform the original dataset.\u001b[0m\u001b[1;33m\u001b[0m\u001b[1;33m\u001b[0m\u001b[1;33m\u001b[0m\u001b[0m\n\u001b[0;32m      9\u001b[0m     \u001b[1;32mif\u001b[0m \u001b[1;32mnot\u001b[0m \u001b[0misinstance\u001b[0m\u001b[1;33m(\u001b[0m\u001b[0mX\u001b[0m\u001b[1;33m,\u001b[0m \u001b[0mpd\u001b[0m\u001b[1;33m.\u001b[0m\u001b[0mDataFrame\u001b[0m\u001b[1;33m)\u001b[0m\u001b[1;33m:\u001b[0m\u001b[1;33m\u001b[0m\u001b[1;33m\u001b[0m\u001b[0m\n\u001b[1;32m---> 10\u001b[1;33m         \u001b[1;32mraise\u001b[0m \u001b[0mTypeError\u001b[0m\u001b[1;33m(\u001b[0m\u001b[1;34m\"The data set should be a pandas dataframe\"\u001b[0m\u001b[1;33m)\u001b[0m\u001b[1;33m\u001b[0m\u001b[1;33m\u001b[0m\u001b[0m\n\u001b[0m\u001b[0;32m     11\u001b[0m     \u001b[1;32mreturn\u001b[0m \u001b[0mX\u001b[0m\u001b[1;33m.\u001b[0m\u001b[0mcopy\u001b[0m\u001b[1;33m(\u001b[0m\u001b[1;33m)\u001b[0m\u001b[1;33m\u001b[0m\u001b[1;33m\u001b[0m\u001b[0m\n\u001b[0;32m     12\u001b[0m \u001b[1;33m\u001b[0m\u001b[0m\n",
      "\u001b[1;31mTypeError\u001b[0m: The data set should be a pandas dataframe"
     ]
    }
   ],
   "source": [
    "#apply discretizer function to y\n",
    "disc.fit(y)"
   ]
  },
  {
   "cell_type": "markdown",
   "metadata": {},
   "source": [
    "---"
   ]
  },
  {
   "cell_type": "markdown",
   "metadata": {},
   "source": [
    "#### use two additional classification algorithms from sci-kit learn"
   ]
  },
  {
   "cell_type": "markdown",
   "metadata": {},
   "source": [
    "---"
   ]
  },
  {
   "cell_type": "markdown",
   "metadata": {},
   "source": [
    "#### what about items? are these even in the tree? why or why not?"
   ]
  },
  {
   "cell_type": "markdown",
   "metadata": {},
   "source": [
    "---"
   ]
  },
  {
   "cell_type": "markdown",
   "metadata": {},
   "source": [
    "#### what about classifying where a transaction took place?\n",
    "---"
   ]
  },
  {
   "cell_type": "markdown",
   "metadata": {},
   "source": [
    "### feature (dependent variable)hhh importance"
   ]
  },
  {
   "cell_type": "code",
   "execution_count": null,
   "metadata": {},
   "outputs": [],
   "source": [
    "# use pandas and random forest model to see which features within the df are most important \n",
    "feature_imp = pd.series(model.feature_importances_, index=data.feature.names)\n",
    "    .sort_values(ascending=False)"
   ]
  }
 ],
 "metadata": {
  "kernelspec": {
   "display_name": "course1-env",
   "language": "python",
   "name": "course1-env"
  },
  "language_info": {
   "codemirror_mode": {
    "name": "ipython",
    "version": 3
   },
   "file_extension": ".py",
   "mimetype": "text/x-python",
   "name": "python",
   "nbconvert_exporter": "python",
   "pygments_lexer": "ipython3",
   "version": "3.8.5"
  },
  "toc-autonumbering": true
 },
 "nbformat": 4,
 "nbformat_minor": 4
}

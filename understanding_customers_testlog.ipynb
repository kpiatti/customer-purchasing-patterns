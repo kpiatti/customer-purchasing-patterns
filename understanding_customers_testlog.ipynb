{
 "cells": [
  {
   "cell_type": "markdown",
   "id": "34b182a3-aa03-4108-aa27-e2cabc39a94b",
   "metadata": {},
   "source": [
    "# Random Torest Model\n",
    "\n",
    "The standard methodology for model selection is to create, train, and test many different models based on different algorithms (e.g. Random Forest, Decision Tree) and then choose the one which one performs the best. "
   ]
  },
  {
   "cell_type": "code",
   "execution_count": null,
   "id": "12642fb8-8af2-4613-a295-8249aa15541a",
   "metadata": {},
   "outputs": [],
   "source": [
    "#instead of preparing each model seperately, we can create a list\n",
    "#and do them all at once\n",
    "\n",
    "#create an empty list\n",
    "algos_class =[]\n",
    "\n",
    "#add random rorest classifier algorithm to empty list\n",
    "algos_class.append(('Random Forest Classifier', RandomForestClassifier()))\n",
    "print(algos_class)"
   ]
  },
  {
   "cell_type": "code",
   "execution_count": null,
   "id": "ca4fa43c-a82f-44ff-98b7-dd3e54530a52",
   "metadata": {},
   "outputs": [],
   "source": [
    "#add decision tree classifier algoritm to empty list\n",
    "algos_class.append(('Decision Tree Classifier', DecisionTreeClassifier()))\n",
    "print(algos_class)"
   ]
  },
  {
   "cell_type": "code",
   "execution_count": null,
   "id": "23ab3ac4-d02d-44a9-9154-5b696410eb6d",
   "metadata": {},
   "outputs": [],
   "source": [
    "#create an empty list to hold the cross validation results for each model\n",
    "results = []\n",
    "names = []\n",
    "\n",
    "for name, model in algos_class: \n",
    "    result = cross_val_score(model, X, y, cv=3, scoring = 'accuracy')\n",
    "    names.append(name)\n",
    "    results.append(result)\n",
    "    \n",
    "for i in range(len(names)):\n",
    "    print(names[i], results[i].mean())"
   ]
  },
  {
   "cell_type": "markdown",
   "id": "0d13886e-4137-4bd5-b70b-fde5ef4dda3b",
   "metadata": {},
   "source": [
    "*Notes*  \n",
    "\n",
    "☼ IndentationError fix: i repeatedly got an indentation error when running ```for name, model in algos_class:``` i think b/c i didn't have a empty line after the ```results.append(result)```  \n",
    "\n",
    "☼ at first i could only get decision tree result to print, then realized i needed to embed second for loop within the first for loop. but now the random forest result is printing twice!\n",
    "\n",
    "¿would you choose the random forest or decision tree model for the project? why?\n",
    "* based on what i know now, i don't think i would choose either one because neither reaches the treshold of 75% accuracy. both models are little better than chance at predicting the region of a transaction. \n",
    "* i have since read that data scientists use occam's razor. so if two models have the same predictive power, you should always choose the simpiler one. "
   ]
  },
  {
   "cell_type": "markdown",
   "id": "95376a9b-4255-40ed-bee8-926e0dbc8a19",
   "metadata": {},
   "source": [
    "# discretize amount and use it as DV\n",
    "\n",
    "Can a useful model be constructed?"
   ]
  },
  {
   "cell_type": "markdown",
   "id": "a106eca8-f86e-469d-9f0a-74117820adb7",
   "metadata": {},
   "source": [
    "Steps  \n",
    "1. re-order data so 'amount' is on right end of df\n",
    "2. specify features and target variables\n",
    "3. discretize 'amount' variable  \n",
    "    a. instantiate discretizer function  \n",
    "    b. apply disc. function to 'amount' var  \n",
    "    c. create new df with discretized amount var subbed in\n",
    "4. instantiate the decision tree cv model\n",
    "5. apply cv model to X and disc_y and print cross val score\n",
    "6. interpret results"
   ]
  },
  {
   "cell_type": "markdown",
   "id": "8595e6f6-340f-4a24-ac48-29135402ec12",
   "metadata": {},
   "source": [
    "###### Step 1: reorder data"
   ]
  },
  {
   "cell_type": "code",
   "execution_count": null,
   "id": "d2bf1128-1272-46ce-abc9-86ce3dc00fcb",
   "metadata": {},
   "outputs": [],
   "source": [
    "#re-order columns in df to put amount at the end\n",
    "data = data[['in-store', 'age', 'items', 'region', 'amount']]\n",
    "data.head()"
   ]
  },
  {
   "cell_type": "markdown",
   "id": "da5c3ecd-c8b4-49a8-b2f7-61a093afa6d6",
   "metadata": {},
   "source": [
    "###### step 2: specify features and target"
   ]
  },
  {
   "cell_type": "code",
   "execution_count": null,
   "id": "2a90621f-f996-4e07-829f-4d9313522825",
   "metadata": {},
   "outputs": [],
   "source": [
    "#set features of the model\n",
    "X = data.iloc[:, 0:4]\n",
    "X.head()"
   ]
  },
  {
   "cell_type": "code",
   "execution_count": null,
   "id": "b7aa77ac-5537-4105-8168-b121a396eea9",
   "metadata": {},
   "outputs": [],
   "source": [
    "y = data['amount']\n",
    "y.head()"
   ]
  },
  {
   "cell_type": "markdown",
   "id": "7478ff2f-ef92-4526-ae88-9fa5ef003693",
   "metadata": {},
   "source": [
    "###### step 3: discretize amount variable"
   ]
  },
  {
   "cell_type": "code",
   "execution_count": null,
   "id": "d42bb5ee-7cc3-48ee-ade8-778d7cfdf7fa",
   "metadata": {},
   "outputs": [],
   "source": [
    "#instantiate discretizer function\n",
    "disc = EqualWidthDiscretiser(bins=3, variables = ['amount'])"
   ]
  },
  {
   "cell_type": "code",
   "execution_count": null,
   "id": "89b0af76-be9d-4022-bb6f-59e9d9b1a41e",
   "metadata": {},
   "outputs": [],
   "source": [
    "#apply discretizer function to y\n",
    "disc.fit(y)"
   ]
  },
  {
   "cell_type": "markdown",
   "id": "003a4cef-4387-4ae2-820d-1e167e5a9c5e",
   "metadata": {},
   "source": [
    "---"
   ]
  },
  {
   "cell_type": "markdown",
   "id": "b5558eaa-921a-4a49-a876-ca9f62535a51",
   "metadata": {},
   "source": [
    "#### use two additional classification algorithms from sci-kit learn"
   ]
  },
  {
   "cell_type": "markdown",
   "id": "39612c29-4800-4b0d-b90f-abda1c860c05",
   "metadata": {},
   "source": [
    "---"
   ]
  },
  {
   "cell_type": "markdown",
   "id": "de0595c1-1d58-4a8f-947c-3e01dcfb1378",
   "metadata": {},
   "source": [
    "#### what about items? are these even in the tree? why or why not?"
   ]
  },
  {
   "cell_type": "markdown",
   "id": "c5508218-896b-43eb-93a7-5937d682828b",
   "metadata": {},
   "source": [
    "---"
   ]
  },
  {
   "cell_type": "markdown",
   "id": "8a56f0f2-44be-4580-abeb-d6c3f8d85351",
   "metadata": {},
   "source": [
    "#### what about classifying where a transaction took place?\n",
    "---"
   ]
  }
 ],
 "metadata": {
  "kernelspec": {
   "display_name": "Python 3",
   "language": "python",
   "name": "python3"
  },
  "language_info": {
   "codemirror_mode": {
    "name": "ipython",
    "version": 3
   },
   "file_extension": ".py",
   "mimetype": "text/x-python",
   "name": "python",
   "nbconvert_exporter": "python",
   "pygments_lexer": "ipython3",
   "version": "3.8.8"
  }
 },
 "nbformat": 4,
 "nbformat_minor": 5
}
